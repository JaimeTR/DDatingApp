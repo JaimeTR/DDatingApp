{
 "metadata": {
  "language_info": {
   "codemirror_mode": {
    "name": "ipython",
    "version": 3
   },
   "file_extension": ".py",
   "mimetype": "text/x-python",
   "name": "python",
   "nbconvert_exporter": "python",
   "pygments_lexer": "ipython3",
   "version": "3.8.5"
  },
  "orig_nbformat": 2,
  "kernelspec": {
   "name": "python385jvsc74a57bd0c92bf77ee0001ac04132e02ede47e38c2c28bdd90dd5217c42e22d92933f74bd",
   "display_name": "Python 3.8.5 64-bit ('tf': conda)"
  }
 },
 "nbformat": 4,
 "nbformat_minor": 2,
 "cells": [
  {
   "cell_type": "code",
   "execution_count": 10,
   "metadata": {},
   "outputs": [],
   "source": [
    "from pigeon import annotate\n",
    "from IPython.display import display, Image\n",
    "from os import listdir\n",
    "from os.path import isfile, join\n",
    "import label1 as data\n",
    "import json\n",
    "\n",
    "files = data.data\n"
   ]
  },
  {
   "cell_type": "code",
   "execution_count": 12,
   "metadata": {},
   "outputs": [
    {
     "output_type": "display_data",
     "data": {
      "text/plain": "HTML(value='0 examples annotated, 7 examples left')",
      "application/vnd.jupyter.widget-view+json": {
       "version_major": 2,
       "version_minor": 0,
       "model_id": "4827c3e127ed4b9287c7b0bfd2e45a86"
      }
     },
     "metadata": {}
    },
    {
     "output_type": "display_data",
     "data": {
      "text/plain": "IntSlider(value=0, max=15)",
      "application/vnd.jupyter.widget-view+json": {
       "version_major": 2,
       "version_minor": 0,
       "model_id": "f939a134aa2e4ef8b299a9c97c0ddaec"
      }
     },
     "metadata": {}
    },
    {
     "output_type": "display_data",
     "data": {
      "text/plain": "HBox(children=(Button(description='submit', style=ButtonStyle()),))",
      "application/vnd.jupyter.widget-view+json": {
       "version_major": 2,
       "version_minor": 0,
       "model_id": "909c5b4f89b141deba0fb0d601ad0b1d"
      }
     },
     "metadata": {}
    },
    {
     "output_type": "display_data",
     "data": {
      "text/plain": "Output()",
      "application/vnd.jupyter.widget-view+json": {
       "version_major": 2,
       "version_minor": 0,
       "model_id": "e1da52f04f4b4c40a585b90892fcf1c7"
      }
     },
     "metadata": {}
    }
   ],
   "source": [
    "labels = annotate(\n",
    "  files,\n",
    "  options=(0, 15, 1),\n",
    "  display_fn=lambda filename: display(Image(filename)),\n",
    "  shuffle=True,\n",
    "  include_skip=False\n",
    ")"
   ]
  },
  {
   "cell_type": "code",
   "execution_count": 9,
   "metadata": {},
   "outputs": [],
   "source": [
    "with open('label.txt', 'w') as outfile:\n",
    "    json.dump(labels, outfile)"
   ]
  },
  {
   "cell_type": "code",
   "execution_count": null,
   "metadata": {},
   "outputs": [],
   "source": []
  }
 ]
}